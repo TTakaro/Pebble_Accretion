{
 "cells": [
  {
   "cell_type": "code",
   "execution_count": 2,
   "metadata": {},
   "outputs": [],
   "source": [
    "import numpy as np\n",
    "import drag_functions_turb as fn\n",
    "import matplotlib.pyplot as plt\n",
    "from PebAcc_Turb import *"
   ]
  },
  {
   "cell_type": "code",
   "execution_count": 14,
   "metadata": {},
   "outputs": [
    {
     "name": "stdout",
     "output_type": "stream",
     "text": [
      "7.073478677959393e+43\n",
      "7.073634215870428e+39\n"
     ]
    }
   ],
   "source": [
    "core_lam = Core(a_core_au=1, m_core_earthmasses=1e-3, alpha=1e-100, m_star_solarmasses=1, gas_dep=1,\n",
    "                sol_gas_ratio=.01, rho_core=5.51)\n",
    "core_lam.main(1)\n",
    "print(core_lam.stl)\n",
    "\n",
    "core_lam.main(1e-2)\n",
    "print(core_lam.stl)"
   ]
  },
  {
   "cell_type": "code",
   "execution_count": null,
   "metadata": {},
   "outputs": [],
   "source": []
  }
 ],
 "metadata": {
  "kernelspec": {
   "display_name": "Python 3",
   "language": "python",
   "name": "python3"
  },
  "language_info": {
   "codemirror_mode": {
    "name": "ipython",
    "version": 3
   },
   "file_extension": ".py",
   "mimetype": "text/x-python",
   "name": "python",
   "nbconvert_exporter": "python",
   "pygments_lexer": "ipython3",
   "version": "3.7.3"
  }
 },
 "nbformat": 4,
 "nbformat_minor": 2
}
