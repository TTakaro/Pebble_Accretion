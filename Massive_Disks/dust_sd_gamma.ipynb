{
 "cells": [
  {
   "cell_type": "code",
   "execution_count": 1,
   "metadata": {},
   "outputs": [],
   "source": [
    "from __future__ import division\n",
    "%matplotlib inline\n",
    "import numpy as np\n",
    "import matplotlib.pyplot as plt\n",
    "from scipy.special import lambertw\n",
    "from matplotlib.colors import LogNorm\n",
    "from scipy.optimize import fsolve, curve_fit\n",
    "import scipy.optimize as opt\n",
    "from scipy.optimize import curve_fit\n",
    "from scipy.optimize import fsolve\n",
    "from scipy.interpolate import interp1d, interp2d\n",
    "import matplotlib.path as mpath\n",
    "import matplotlib.lines as mlines\n",
    "import matplotlib.patches as patches\n",
    "from matplotlib.collections import PatchCollection\n",
    "from matplotlib.pyplot import cm "
   ]
  },
  {
   "cell_type": "code",
   "execution_count": 2,
   "metadata": {},
   "outputs": [],
   "source": [
    "plt.rcParams['figure.figsize'] = (6,5)\n",
    "plt.rcParams['legend.frameon'] = False\n",
    "plt.rcParams['legend.fontsize'] = 14\n",
    "plt.rcParams['legend.borderpad'] = 0.1\n",
    "plt.rcParams['legend.labelspacing'] = 0.1\n",
    "plt.rcParams['legend.handletextpad'] = 0.1\n",
    "plt.rcParams['font.family'] = 'stixgeneral'\n",
    "plt.rcParams['font.size'] = 20"
   ]
  },
  {
   "cell_type": "code",
   "execution_count": 3,
   "metadata": {},
   "outputs": [],
   "source": [
    "boltzmann = 1.380658e-16 #cgs\n",
    "mH = 1.6733000e-24 #grams\n",
    "mdot = 1.99e33 #grams\n",
    "G = 6.67259e-8 #cgs\n",
    "EiCO = 850 #K\n",
    "EiCO2 = 2000\n",
    "EiH2O = 5800\n",
    "mCO = 28*mH\n",
    "mCO2 = 44*mH\n",
    "mH2O = 18*mH\n",
    "Ni = 10**15 #cm^-2 number of sites\n",
    "au2cm = 1.496e13\n",
    "nCO = 1.5e-4\n",
    "nCO2 = 0.3e-4\n",
    "nH2O = 0.9e-4"
   ]
  },
  {
   "cell_type": "code",
   "execution_count": 4,
   "metadata": {},
   "outputs": [],
   "source": [
    "boltzmann = 1.380658e-16 #cgs\n",
    "mH = 1.6733000e-24 #grams\n",
    "mdot = 1.99e33 #grams\n",
    "G = 6.67259e-8 #cgs\n",
    "SB = 5.6704e-5\n",
    "Ldot = 3.839e33\n",
    "rsun = 7e10"
   ]
  },
  {
   "cell_type": "code",
   "execution_count": 5,
   "metadata": {},
   "outputs": [],
   "source": [
    "as209_age = 5.05e13\n",
    "cytau_age = 6.307e13/2\n",
    "doar25_age = 6.307e13\n",
    "drtau_age = 0.9*3.154e13\n",
    "fttau_age = 2.2*3.154e13\n",
    "hd163296_age = 1.577e14\n",
    "\n",
    "mstar_as209 = 0.9*mdot\n",
    "mstar_cytau = 0.55*mdot\n",
    "mstar_doar25 = mdot\n",
    "mstar_drtau = 0.558*mdot\n",
    "mstar_fttau = 0.298*mdot\n",
    "mstar_hd163296 = 2.3*mdot"
   ]
  },
  {
   "cell_type": "code",
   "execution_count": 6,
   "metadata": {},
   "outputs": [],
   "source": [
    "age_def = 3.154e13\n",
    "mstar_def = mdot\n",
    "\n",
    "def temp_def(r):\n",
    "    T = 200 * (r**(-3/7))\n",
    "    return T\n",
    "    \n",
    "def sd_def(r):\n",
    "    r_c = 40\n",
    "    gamma = 1 #1.07\n",
    "    sigma = 375 * ((r/r_c)**(-gamma))*np.exp(-(r/r_c)**(2-gamma))\n",
    "    #sigma = 375 * r**(-1)\n",
    "    return sigma\n",
    "\n",
    "def sd_dust_def(r):\n",
    "    sigma = 0.01 * sd_def(r)\n",
    "    return sigma"
   ]
  },
  {
   "cell_type": "code",
   "execution_count": 7,
   "metadata": {},
   "outputs": [],
   "source": [
    "def temp_as209(r):\n",
    "    T = 130.765498011*(r**(-3./7))\n",
    "    return T\n",
    "\n",
    "def sd_as209(r):\n",
    "    r_c = 100\n",
    "    gamma = 1\n",
    "    sigma = ((r/r_c)**(-gamma))*np.exp(-(r/r_c)**(2-gamma))*15\n",
    "    return sigma\n",
    "\n",
    "def sd_dust_as209(r):\n",
    "    r_t = 48\n",
    "    gamma = 0.91\n",
    "    sigma_t = 0.81\n",
    "    sigma = sigma_t*(r/r_t)**(-gamma)*np.exp(-1/(2*(2-gamma))*((r/r_t)**(2-gamma)-1))\n",
    "    return sigma"
   ]
  },
  {
   "cell_type": "code",
   "execution_count": 8,
   "metadata": {},
   "outputs": [],
   "source": [
    "def temp_cytau(r):\n",
    "    T = 89.415006711*(r**(-3./7))\n",
    "    return T\n",
    "\n",
    "def sd_cytau(r):\n",
    "    r_t = 32\n",
    "    gamma = 0.28\n",
    "    sigma = ((r_t/r)**(gamma))*np.exp((1-(r/r_t)**(2-gamma))/(2*(2.-gamma)))*20.\n",
    "    return sigma\n",
    "\n",
    "def sd_dust_cytau(r): #check\n",
    "    r_t = 32\n",
    "    gamma = 0.28\n",
    "    sigma = ((r_t/r)**(gamma))*np.exp((1-(r/r_t)**(2-gamma))/(2*(2.-gamma)))*11.\n",
    "    return sigma"
   ]
  },
  {
   "cell_type": "code",
   "execution_count": 9,
   "metadata": {},
   "outputs": [],
   "source": [
    "def temp_doar25(r):\n",
    "    T = 123.651629226*(r**(-3./7))\n",
    "    return T\n"
   ]
  },
  {
   "cell_type": "code",
   "execution_count": 10,
   "metadata": {},
   "outputs": [],
   "source": [
    "def temp_drtau(r):\n",
    "    T = 121.389793367*(r**(-3./7))\n",
    "    return T\n",
    "\n",
    "def sd_drtau(r):\n",
    "    r_c = 20\n",
    "    gamma = 1.07\n",
    "    sigma = ((r/40.)**(-gamma))*np.exp(-(r/r_c)**(2-gamma))*375\n",
    "    return sigma\n",
    "\n",
    "def sd_dust_drtau(r):\n",
    "    r_c = 20\n",
    "    gamma = 1.07\n",
    "    sigma = ((r/40.)**(-gamma))*np.exp(-(r/r_c)**(2-gamma))*20\n",
    "    return sigma\n",
    "\n",
    "#DR Tau compared to dust -> 16 times more massive than dust\n",
    "\n",
    "def temp_fttau(r):\n",
    "    T = 89.0565323094*(r**(-3./7))\n",
    "    return T\n",
    "\n",
    "def sd_fttau(r):\n",
    "    r_c = 28\n",
    "    gamma = 1.07\n",
    "    sigma = ((r/40.)**(-gamma))*np.exp(-(r/r_c)**(2-gamma))*50.*2.5\n",
    "    return sigma\n",
    "\n",
    "def sd_dust_fttau(r):\n",
    "    r_c = 28\n",
    "    gamma = 1.07\n",
    "    sigma = ((r/40.)**(-gamma))*np.exp(-(r/r_c)**(2-gamma))*18.\n",
    "    return sigma\n",
    "\n",
    "def temp_hd163296(r):\n",
    "    T = 283.548302503*(r**(-3./7))\n",
    "    return T\n",
    "\n",
    "def sd_hd163296(r):\n",
    "    r_c = 213\n",
    "    gamma = 0.39\n",
    "    sigma = ((r/10.)**(-gamma))*np.exp(-(r/r_c)**(2-gamma))*110.\n",
    "    return sigma\n",
    "\n",
    "def sd_dust_hd163296(r):\n",
    "    r_c = 118.7\n",
    "    gamma = 0.882\n",
    "    sigma = ((r/10.)**(-gamma))*np.exp(-(r/r_c)**(2-gamma))*13.4\n",
    "    return sigma"
   ]
  },
  {
   "cell_type": "code",
   "execution_count": 11,
   "metadata": {},
   "outputs": [],
   "source": [
    "def tau_s(r,s, T, mstar, rhoGas):\n",
    "    v_therm = np.sqrt((boltzmann*T)/(2.35*mH))\n",
    "    rho_part = 2.\n",
    "    lambda_mfp = 1./((rhoGas/(2.3*mH))*np.pi*10.**-15)\n",
    "    regime = (9*lambda_mfp)/4.\n",
    "    t_stop = []\n",
    "    \n",
    "    for i,ss in enumerate(s):\n",
    "        if ss<regime[i]:\n",
    "            t_stop.append((rho_part*ss)/(rhoGas[i]*v_therm[i]))\n",
    "        if ss>regime[i]:\n",
    "            t_stop.append((4*rho_part*ss**2)/(9*rhoGas[i]*v_therm[i]*lambda_mfp[i]))\n",
    "        \n",
    "    omega = np.sqrt((G*mstar)/(r*au2cm)**3)\n",
    "    v_kep = omega*(r*au2cm)\n",
    "    tau_stop = omega*t_stop\n",
    "    \n",
    "    return tau_stop\n",
    "    "
   ]
  },
  {
   "cell_type": "code",
   "execution_count": 12,
   "metadata": {},
   "outputs": [],
   "source": [
    "def y_str_eqn(y_str,st):\n",
    "    \"\"\"Equation 21d from OC07 with term on RHS subtracted over. Ignores V_0 term following text,\n",
    "    which we may want to include later.\"\"\"\n",
    "    return 2./3. * y_str * (y_str - 1.)**2. - (1 + y_str)**(-1.) + (1 + st**(-1.))**(-1.)"
   ]
  },
  {
   "cell_type": "code",
   "execution_count": 13,
   "metadata": {},
   "outputs": [],
   "source": [
    "def st_str(st):\n",
    "    \"\"\"Function to solve for t_* following OC07 21d. Ignores V_0 term. \"\"\"\n",
    "    if st>=1:\n",
    "        return 1. #Don't allow t_* > t_L\n",
    "    else:\n",
    "        return opt.fsolve(y_str_eqn,st,args=(st))[0]*st"
   ]
  },
  {
   "cell_type": "code",
   "execution_count": 14,
   "metadata": {},
   "outputs": [],
   "source": [
    "def d_V_12(st_1,st_2,Re, v_gas):\n",
    "    \"\"\"Function for reproducing Eqn. (16) in OC07. Might need to add more input parameters\"\"\"\n",
    "    \n",
    "    st_eta = Re**(-0.5)\n",
    "    \n",
    "    st_1_str = st_str(st_1)\n",
    "    st_2_str = st_str(st_2)\n",
    "    \n",
    "    st_12_str = max(st_1_str,st_2_str)\n",
    "    st_12_str = max(st_12_str,st_eta)\n",
    "\n",
    "    term_1 = (st_12_str + st_1**2./(st_1 + st_12_str) - (st_eta + st_1**2./(st_1 + st_eta))) +\\\n",
    "                ( (st_2 - st_1)/(st_1 + st_2) * (st_1**2./(st_1 + 1.) - st_1**2./(st_1 + st_12_str)) )\n",
    "\n",
    "    term_2 = (st_12_str + st_2**2./(st_2 + st_12_str) - (st_eta + st_2**2./(st_2 + st_eta))) +\\\n",
    "                ( (st_1 - st_2)/(st_2 + st_1) * (st_2**2./(st_2 + 1.) - st_2**2./(st_2 + st_12_str)) )\n",
    "\n",
    "    return np.sqrt(v_gas**2*(term_1 + term_2))"
   ]
  },
  {
   "cell_type": "code",
   "execution_count": 15,
   "metadata": {},
   "outputs": [],
   "source": [
    "def dust_to_gas(disk_name, r, rho_int, alpha):\n",
    "    \n",
    "    if disk_name == 'default':\n",
    "        T = temp_def(r)\n",
    "        mstar = mstar_def\n",
    "        time_grow = 0.1 * age_def\n",
    "        sigma = sd_def(r)\n",
    "        \n",
    "    if disk_name == 'as209':\n",
    "        T = temp_as209(r)\n",
    "        mstar = mstar_as209\n",
    "        time_grow = as209_age\n",
    "        sigma = sd_as209(r)\n",
    "    \n",
    "    if disk_name == 'fttau':\n",
    "        T = temp_fttau(r)\n",
    "        mstar = mstar_fttau\n",
    "        time_grow = 0.1 * fttau_age\n",
    "        sigma = sd_fttau(r)\n",
    "    \n",
    "    if disk_name == 'drtau':\n",
    "        T = temp_drtau(r)\n",
    "        mstar = mstar_drtau\n",
    "        time_grow = 0.1 * drtau_age\n",
    "        sigma = sd_drtau(r)\n",
    "    \n",
    "    if disk_name == 'hd163296':\n",
    "        T = temp_hd163296(r)\n",
    "        mstar = mstar_hd163296\n",
    "        time_grow = hd163296_age\n",
    "        sigma = sd_hd163296(r)\n",
    "    \n",
    "    if disk_name == 'cytau':\n",
    "        T = temp_cytau(r)\n",
    "        mstar = mstar_cytau\n",
    "        time_grow = cytau_age\n",
    "        sigma = sd_cytau(r)\n",
    "        \n",
    "    cs = np.sqrt((boltzmann*T)/(2.35*mH))\n",
    "    omega = np.sqrt((G*mstar)/(r*au2cm)**3.)\n",
    "    H=cs/omega\n",
    "    rhoGas = sigma/H\n",
    "    v_kep = omega*(r*au2cm)\n",
    "    eta = (cs)**2/(2*(v_kep)**2)\n",
    "    v0 = eta*v_kep\n",
    "    \n",
    "    n_r = len(r)\n",
    "    #\n",
    "    # calculate the pressure power-law index\n",
    "    #\n",
    "    P = sigma * omega * cs /np.sqrt(2*np.pi)\n",
    "    \n",
    "    gamma = np.ones(n_r)\n",
    "    gamma[1:n_r - 1] = r[1:n_r - 1] / P[1:n_r - 1] * (P[2:n_r] - P[0:n_r - 2]) / (r[2:n_r] - r[0:n_r - 2])\n",
    "    gamma[0] = gamma[1]\n",
    "    gamma[-1] = gamma[-2]\n",
    "    gamma = abs(gamma)\n",
    "    \n",
    "    amax = sigma*(r*au2cm)/time_grow/v0/rho_int#/gamma\n",
    "    #print amax,amax*gamma\n",
    "    \n",
    "    '''\n",
    "    for irr,rr in enumerate(r):\n",
    "        if rr > 30:\n",
    "            amax[irr] = amax[irr]/2\n",
    "        if rr < 30:\n",
    "            amax[irr] = amax[irr]*2\n",
    "    '''\n",
    "    \n",
    "    #print gamma, radius_array\n",
    "    \n",
    "    tau_stop = tau_s(r,amax, T, mstar, rhoGas)\n",
    "    \n",
    "    vgas = np.sqrt(alpha*cs**2.)\n",
    "    lambda_mfp = 1./((rhoGas/(2.3*mH))*10.**(-15.))\n",
    "    nu = lambda_mfp*cs\n",
    "    Re = (alpha*cs**2)/(nu*omega)\n",
    "    deltaV = []\n",
    "    for idx,t in enumerate(tau_stop):\n",
    "        deltaV.append(d_V_12(t,t,Re[idx], vgas[idx]))\n",
    "    \n",
    "    #fd = (tau_stop*cs**2*gamma)/(r*v_kep*omega) #archive test\n",
    "    #print fd\n",
    "    \n",
    "    #sigma_dust = (amax*np.pi*rho_int*cs**2*gamma)/v_kep**2/2/0.55 #great!\n",
    "    #fd = sigma_dust/sigma\n",
    "    \n",
    "    sigma_dust = (amax*np.pi*rho_int*cs**2)/v_kep**2/2/0.55 #great!\n",
    "    fd = sigma_dust/sigma\n",
    "    \n",
    "    #sigma_dust = (tau_stop*cs**2*sigma)/(v_kep**2)/0.55 #no assumption from Til about stoke's\n",
    "    #fd = sigma_dust/sigma\n",
    "    \n",
    "    H_d = H*np.sqrt((alpha)/(alpha+tau_stop))\n",
    "    #sigma_dust1 = (amax*rho_int*H_d*tau_stop*cs**2)/(deltaV*r*au2cm*v_kep)/0.55\n",
    "    ##print sigma_dust/sigma_dust1\n",
    "    #fd = sigma_dust1/sigma\n",
    "    \n",
    "    return fd"
   ]
  },
  {
   "cell_type": "code",
   "execution_count": 16,
   "metadata": {},
   "outputs": [
    {
     "name": "stdout",
     "output_type": "stream",
     "text": [
      "0.014839411588259743 0.0013454383374524967 0.008307024220134254 0.0006567882063032557 0.00013156560501923563\n",
      "0.009976455955821473\n"
     ]
    }
   ],
   "source": [
    "rad_array = np.logspace(1,2.5,num=100)\n",
    "fd_drtau = np.mean(dust_to_gas('drtau', rad_array, 2., 1e-3))\n",
    "fd_cytau = np.mean(dust_to_gas('cytau', rad_array, 2., 1e-3))\n",
    "fd_fttau = np.mean(dust_to_gas('fttau', rad_array, 2., 1e-3))\n",
    "fd_as209 = np.mean(dust_to_gas('as209', rad_array, 2., 1e-3))\n",
    "fd_hd163296 = np.mean(dust_to_gas('hd163296', rad_array, 2., 1e-3))\n",
    "fd_def = np.mean(dust_to_gas('default', rad_array, 2., 1e-3))\n",
    "\n",
    "print(fd_drtau, fd_cytau, fd_fttau, fd_as209, fd_hd163296)\n",
    "print(fd_def)"
   ]
  },
  {
   "cell_type": "code",
   "execution_count": 17,
   "metadata": {},
   "outputs": [],
   "source": [
    "alpha = 1e-6\n",
    "radius_array = np.logspace(0,2.5,num=300) #np.logspace(-1,2.5,num=100) # semi-major axes\n",
    "fd_def = dust_to_gas('default', radius_array, 2., alpha) # Dust-to-gas ratio for default params\n",
    "fd_drtau = dust_to_gas('drtau', radius_array, 2., alpha) # Dust-to-gas ratio for DR Tau\n",
    "fd_fttau = dust_to_gas('fttau', radius_array, 2., alpha) # Dust-to-gas ratio for FT Tau\n",
    "\n",
    "np.savetxt(\"def_fd.txt\", np.array([radius_array, fd_def]))\n",
    "np.savetxt(\"def_sd.txt\", np.array([radius_array, sd_def(radius_array), sd_dust_def(radius_array)]))\n",
    "\n",
    "np.savetxt(\"drtau_fd.txt\", np.array([radius_array, fd_drtau]))\n",
    "np.savetxt(\"fttau_fd.txt\", np.array([radius_array, fd_fttau]))\n",
    "np.savetxt(\"drtau_sd.txt\", np.array([radius_array, sd_drtau(radius_array), sd_dust_drtau(radius_array)]))\n",
    "np.savetxt(\"fttau_sd.txt\", np.array([radius_array, sd_fttau(radius_array), sd_dust_fttau(radius_array)]))\n",
    "\n",
    "# M_star, T_0, Sig_0, R_crit, alpha, t_disk\n",
    "np.savetxt(\"def_params.txt\", np.array([mstar_def/mdot, 121.389793367, 375, 40, alpha, age_def]))\n",
    "np.savetxt(\"drtau_params.txt\", np.array([mstar_drtau/mdot, 121.389793367, 375, 40, alpha, drtau_age]))\n",
    "np.savetxt(\"fttau_params.txt\", np.array([mstar_fttau/mdot, 89.0565323094, 125, 40, alpha, fttau_age]))"
   ]
  },
  {
   "cell_type": "code",
   "execution_count": 18,
   "metadata": {},
   "outputs": [],
   "source": [
    "rad_til,sigd_til = np.loadtxt('til_sigma_dust.txt', unpack=True) # DR Tau\n",
    "rad_til_ft,sigd_til_ft = np.loadtxt('fttau_tildust.txt', unpack=True) # FT Tau"
   ]
  },
  {
   "cell_type": "code",
   "execution_count": 19,
   "metadata": {},
   "outputs": [
    {
     "data": {
      "text/plain": [
       "Text(0, 0.5, 'fd')"
      ]
     },
     "execution_count": 19,
     "metadata": {},
     "output_type": "execute_result"
    },
    {
     "data": {
      "image/png": "[encoded data removed]",
      "text/plain": [
       "<Figure size 432x360 with 1 Axes>"
      ]
     },
     "metadata": {
      "needs_background": "light"
     },
     "output_type": "display_data"
    }
   ],
   "source": [
    "plt.loglog(radius_array,fd_drtau)\n",
    "plt.xlim(10,100)\n",
    "plt.ylim(1e-6,1e-2)\n",
    "plt.xlabel(r'r [AU]')\n",
    "plt.ylabel(r'fd')"
   ]
  },
  {
   "cell_type": "code",
   "execution_count": 20,
   "metadata": {},
   "outputs": [
    {
     "data": {
      "image/png": "[encoded data removed]",
      "text/plain": [
       "<Figure size 432x360 with 1 Axes>"
      ]
     },
     "metadata": {
      "needs_background": "light"
     },
     "output_type": "display_data"
    }
   ],
   "source": [
    "plt.loglog(radius_array, sd_drtau(radius_array), lw=2, c='blue')\n",
    "plt.loglog(radius_array, sd_dust_drtau(radius_array)/100, lw=2, c='k')\n",
    "plt.plot(radius_array, fd_drtau*sd_drtau(radius_array)+(0.3*fd_drtau*sd_drtau(radius_array)), lw=2, c='k', ls='--')\n",
    "plt.plot(rad_til, sigd_til, lw=2, c='gray', ls='--')\n",
    "plt.xlim(20,175)\n",
    "plt.ylim(1e-4,1e3)\n",
    "plt.xlabel(r'r [AU]')\n",
    "plt.ylabel(r'$\\Sigma$ [g cm$^{-2}$]')\n",
    "plt.savefig('drtau_sd_comp.pdf', type='pdf', bbox_inches='tight')"
   ]
  },
  {
   "cell_type": "code",
   "execution_count": 21,
   "metadata": {},
   "outputs": [
    {
     "data": {
      "image/png": "[encoded data removed]",
      "text/plain": [
       "<Figure size 432x360 with 1 Axes>"
      ]
     },
     "metadata": {
      "needs_background": "light"
     },
     "output_type": "display_data"
    }
   ],
   "source": [
    "plt.rcParams['figure.figsize'] = (6,5)\n",
    "plt.rcParams['legend.frameon'] = False\n",
    "plt.rcParams['legend.fontsize'] = 14\n",
    "plt.rcParams['legend.borderpad'] = 0.1\n",
    "plt.rcParams['legend.labelspacing'] = 0.1\n",
    "plt.rcParams['legend.handletextpad'] = 0.1\n",
    "plt.rcParams['font.family'] = 'stixgeneral'\n",
    "plt.rcParams['font.size'] = 22\n",
    "\n",
    "plt.loglog(radius_array, sd_fttau(radius_array), lw=2, c='blue')\n",
    "plt.loglog(radius_array, sd_dust_fttau(radius_array)/100, lw=2, c='k')\n",
    "plt.plot(radius_array, fd_fttau*sd_fttau(radius_array)+(0.3*fd_fttau*sd_fttau(radius_array)), lw=2, c='k', ls='--')\n",
    "plt.plot(rad_til_ft, sigd_til_ft, lw=2, c='gray', ls='--')\n",
    "plt.xlim(20,175)\n",
    "plt.ylim(1e-4,1e3)\n",
    "plt.xlabel(r'r [AU]')\n",
    "plt.ylabel(r'$\\Sigma$ [g cm$^{-2}$]')\n",
    "plt.savefig('fttau_sd_comp.pdf', type='pdf', bbox_inches='tight')"
   ]
  },
  {
   "cell_type": "code",
   "execution_count": 22,
   "metadata": {},
   "outputs": [
    {
     "data": {
      "image/png": "[encoded data removed]",
      "text/plain": [
       "<Figure size 432x360 with 1 Axes>"
      ]
     },
     "metadata": {
      "needs_background": "light"
     },
     "output_type": "display_data"
    }
   ],
   "source": [
    "plt.loglog(radius_array, sd_hd163296(radius_array), lw=2, c='blue')\n",
    "plt.loglog(radius_array, sd_dust_hd163296(radius_array)/100, lw=2, c='k')\n",
    "plt.plot(radius_array, fd_hd163296*sd_hd163296(radius_array)+(0.3*fd_hd163296*sd_hd163296(radius_array)), lw=2, c='k', ls='--')\n",
    "plt.plot(rad_til, sigd_til, lw=2, c='gray', ls='--')\n",
    "plt.xlim(20,175)\n",
    "plt.ylim(1e-4,1e3)\n",
    "plt.xlabel(r'r [AU]')\n",
    "plt.ylabel(r'$\\Sigma$ [g cm$^{-2}$]')\n",
    "plt.savefig('drtau_sd_comp.pdf', type='pdf', bbox_inches='tight')"
   ]
  },
  {
   "cell_type": "code",
   "execution_count": 23,
   "metadata": {},
   "outputs": [],
   "source": [
    "def gamma(disk_name, r, rho_int, alpha):\n",
    "    \n",
    "    if disk_name == 'as209':\n",
    "        T = temp_as209(r)\n",
    "        mstar = mstar_as209\n",
    "        time_grow = as209_age\n",
    "        sigma = sd_as209(r)\n",
    "    \n",
    "    if disk_name == 'fttau':\n",
    "        T = temp_fttau(r)\n",
    "        mstar = mstar_fttau\n",
    "        time_grow = fttau_age\n",
    "        sigma = sd_fttau(r)\n",
    "    \n",
    "    if disk_name == 'drtau':\n",
    "        T = temp_drtau(r)\n",
    "        mstar = mstar_drtau\n",
    "        time_grow = drtau_age\n",
    "        sigma = sd_drtau(r)\n",
    "    \n",
    "    if disk_name == 'hd163296':\n",
    "        T = temp_hd163296(r)\n",
    "        mstar = mstar_hd163296\n",
    "        time_grow = hd163296_age\n",
    "        sigma = sd_hd163296(r)\n",
    "    \n",
    "    if disk_name == 'cytau':\n",
    "        T = temp_cytau(r)\n",
    "        mstar = mstar_cytau\n",
    "        time_grow = cytau_age\n",
    "        sigma = sd_cytau(r)\n",
    "        \n",
    "    cs = np.sqrt((boltzmann*T)/(2.35*mH))\n",
    "    omega = np.sqrt((G*mstar)/(r*au2cm)**3.)\n",
    "    H=cs/omega\n",
    "    rhoGas = sigma/H\n",
    "    v_kep = omega*(r*au2cm)\n",
    "    eta = (cs)**2/(2*(v_kep)**2)\n",
    "    v0 = eta*v_kep\n",
    "    \n",
    "    n_r = len(r)\n",
    "    #\n",
    "    # calculate the pressure power-law index\n",
    "    #\n",
    "    P = sigma * omega * cs /np.sqrt(2*np.pi)\n",
    "    gamma = np.zeros(n_r)\n",
    "    gamma[1:n_r - 1] = r[1:n_r - 1] / P[1:n_r - 1] * (P[2:n_r] - P[0:n_r - 2]) / (r[2:n_r] - r[0:n_r - 2])\n",
    "    gamma[0] = gamma[1]\n",
    "    gamma[-1] = gamma[-2]\n",
    "    gamma = abs(gamma)\n",
    "    \n",
    "    \n",
    "    return gamma"
   ]
  },
  {
   "cell_type": "code",
   "execution_count": 24,
   "metadata": {},
   "outputs": [],
   "source": [
    "gamdrtau = gamma('as209', radius_array, 2., 1e-3)"
   ]
  },
  {
   "cell_type": "code",
   "execution_count": 25,
   "metadata": {},
   "outputs": [
    {
     "data": {
      "image/png": "[encoded data removed]",
      "text/plain": [
       "<Figure size 432x360 with 1 Axes>"
      ]
     },
     "metadata": {
      "needs_background": "light"
     },
     "output_type": "display_data"
    }
   ],
   "source": [
    "plt.plot(radius_array,gamdrtau)\n",
    "plt.xscale('log')"
   ]
  },
  {
   "cell_type": "code",
   "execution_count": 26,
   "metadata": {},
   "outputs": [
    {
     "name": "stdout",
     "output_type": "stream",
     "text": [
      "2.855993321445266\n"
     ]
    }
   ],
   "source": [
    "print(np.pi/(2*0.55))"
   ]
  },
  {
   "cell_type": "markdown",
   "metadata": {},
   "source": [
    "## MMSN Calculation"
   ]
  },
  {
   "cell_type": "code",
   "execution_count": 26,
   "metadata": {},
   "outputs": [],
   "source": [
    "# Using parameters from Desch (2007)\n",
    "mmsn_age = 3.1536e13 # 1 Myr\n",
    "mstar_mmsn = mdot\n",
    "\n",
    "alpha_mmsn = 4e-4\n",
    "\n",
    "def temp_mmsn(r):\n",
    "    T = 150*(r**(-3./7))\n",
    "    return T\n",
    "\n",
    "def sd_mmsn(r):\n",
    "    r_c = 10\n",
    "    gamma = 2.168\n",
    "    sigma = 343 * (r/r_c)**(-gamma) #((r/r_c)**(-gamma))*np.exp(-(r/r_c)**(2-gamma))*15\n",
    "    return sigma\n",
    "\n",
    "#def sd_dust_mmsn(r):\n",
    "#    r_t = 48\n",
    "#    gamma = 0.91\n",
    "#    sigma_t = 0.81\n",
    "#    sigma = sigma_t*(r/r_t)**(-gamma)*np.exp(-1/(2*(2-gamma))*((r/r_t)**(2-gamma)-1))\n",
    "#    return sigma"
   ]
  },
  {
   "cell_type": "code",
   "execution_count": 27,
   "metadata": {},
   "outputs": [],
   "source": [
    "def dust_to_gas(disk_name, r, rho_int, alpha):\n",
    "    \n",
    "    if disk_name == 'as209':\n",
    "        T = temp_as209(r)\n",
    "        mstar = mstar_as209\n",
    "        time_grow = as209_age\n",
    "        sigma = sd_as209(r)\n",
    "    \n",
    "    if disk_name == 'fttau':\n",
    "        T = temp_fttau(r)\n",
    "        mstar = mstar_fttau\n",
    "        time_grow = fttau_age\n",
    "        sigma = sd_fttau(r)\n",
    "    \n",
    "    if disk_name == 'drtau':\n",
    "        T = temp_drtau(r)\n",
    "        mstar = mstar_drtau\n",
    "        time_grow = drtau_age\n",
    "        sigma = sd_drtau(r)\n",
    "    \n",
    "    if disk_name == 'hd163296':\n",
    "        T = temp_hd163296(r)\n",
    "        mstar = mstar_hd163296\n",
    "        time_grow = hd163296_age\n",
    "        sigma = sd_hd163296(r)\n",
    "    \n",
    "    if disk_name == 'cytau':\n",
    "        T = temp_cytau(r)\n",
    "        mstar = mstar_cytau\n",
    "        time_grow = cytau_age\n",
    "        sigma = sd_cytau(r)\n",
    "    \n",
    "    if disk_name == 'mmsn':\n",
    "        T = temp_mmsn(r)\n",
    "        mstar = mstar_mmsn\n",
    "        time_grow = mmsn_age\n",
    "        sigma = sd_mmsn(r)\n",
    "        \n",
    "    cs = np.sqrt((boltzmann*T)/(2.35*mH))\n",
    "    omega = np.sqrt((G*mstar)/(r*au2cm)**3.)\n",
    "    H=cs/omega\n",
    "    rhoGas = sigma/H\n",
    "    v_kep = omega*(r*au2cm)\n",
    "    eta = (cs)**2/(2*(v_kep)**2)\n",
    "    v0 = eta*v_kep\n",
    "    \n",
    "    n_r = len(r)\n",
    "    #\n",
    "    # calculate the pressure power-law index\n",
    "    #\n",
    "    P = sigma * omega * cs /np.sqrt(2*np.pi)\n",
    "    \n",
    "    gamma = np.ones(n_r)\n",
    "    gamma[1:n_r - 1] = r[1:n_r - 1] / P[1:n_r - 1] * (P[2:n_r] - P[0:n_r - 2]) / (r[2:n_r] - r[0:n_r - 2])\n",
    "    gamma[0] = gamma[1]\n",
    "    gamma[-1] = gamma[-2]\n",
    "    gamma = abs(gamma)\n",
    "    \n",
    "    amax = sigma*(r*au2cm)/time_grow/v0/rho_int#/gamma\n",
    "    #print amax,amax*gamma\n",
    "    \n",
    "    '''\n",
    "    for irr,rr in enumerate(r):\n",
    "        if rr > 30:\n",
    "            amax[irr] = amax[irr]/2\n",
    "        if rr < 30:\n",
    "            amax[irr] = amax[irr]*2\n",
    "    '''\n",
    "    \n",
    "    #print gamma, radius_array\n",
    "    \n",
    "    tau_stop = tau_s(r,amax, T, mstar, rhoGas)\n",
    "    \n",
    "    vgas = np.sqrt(alpha*cs**2.)\n",
    "    lambda_mfp = 1./((rhoGas/(2.3*mH))*10.**(-15.))\n",
    "    nu = lambda_mfp*cs\n",
    "    Re = (alpha*cs**2)/(nu*omega)\n",
    "    deltaV = []\n",
    "    for idx,t in enumerate(tau_stop):\n",
    "        deltaV.append(d_V_12(t,t,Re[idx], vgas[idx]))\n",
    "    \n",
    "    #fd = (tau_stop*cs**2*gamma)/(r*v_kep*omega) #archive test\n",
    "    #print fd\n",
    "    \n",
    "    #sigma_dust = (amax*np.pi*rho_int*cs**2*gamma)/v_kep**2/2/0.55 #great!\n",
    "    #fd = sigma_dust/sigma\n",
    "    \n",
    "    sigma_dust = (amax*np.pi*rho_int*cs**2)/v_kep**2/2/0.55 #great!\n",
    "    fd = sigma_dust/sigma\n",
    "    \n",
    "    #sigma_dust = (tau_stop*cs**2*sigma)/(v_kep**2)/0.55 #no assumption from Til about stoke's\n",
    "    #fd = sigma_dust/sigma\n",
    "    \n",
    "    H_d = H*np.sqrt((alpha)/(alpha+tau_stop))\n",
    "    #sigma_dust1 = (amax*rho_int*H_d*tau_stop*cs**2)/(deltaV*r*au2cm*v_kep)/0.55\n",
    "    ##print sigma_dust/sigma_dust1\n",
    "    #fd = sigma_dust1/sigma\n",
    "    \n",
    "    return fd"
   ]
  },
  {
   "cell_type": "code",
   "execution_count": 28,
   "metadata": {},
   "outputs": [
    {
     "name": "stdout",
     "output_type": "stream",
     "text": [
      "0.0009977721361193847\n"
     ]
    }
   ],
   "source": [
    "rad_array = np.logspace(1,2.5,num=100)\n",
    "fd_mmsn = np.mean(dust_to_gas('mmsn', rad_array, 2., 1e-3))\n",
    "\n",
    "print(fd_mmsn)"
   ]
  },
  {
   "cell_type": "code",
   "execution_count": 29,
   "metadata": {},
   "outputs": [],
   "source": [
    "alpha = alpha_mmsn\n",
    "radius_array = np.logspace(0,2.5,num=300) #np.logspace(-1,2.5,num=100) # semi-major axes\n",
    "fd_mmsn = dust_to_gas('mmsn', radius_array, 2., alpha) # Dust-to-gas ratio for MMSN\n",
    "\n",
    "np.savetxt(\"mmsn_fd.txt\", np.array([radius_array, fd_mmsn]))\n",
    "np.savetxt(\"mmsn_sd.txt\", np.array([radius_array, sd_mmsn(radius_array), fd_mmsn*sd_mmsn(radius_array)]))\n",
    "\n",
    "# M_star, T_0, Sig_0, R_crit, alpha, t_disk\n",
    "np.savetxt(\"mmsn_params.txt\", np.array([mstar_mmsn/mdot, 150, 343, 10, alpha, mmsn_age]))"
   ]
  },
  {
   "cell_type": "code",
   "execution_count": null,
   "metadata": {},
   "outputs": [],
   "source": []
  }
 ],
 "metadata": {
  "kernelspec": {
   "display_name": "Python 3",
   "language": "python",
   "name": "python3"
  },
  "language_info": {
   "codemirror_mode": {
    "name": "ipython",
    "version": 3
   },
   "file_extension": ".py",
   "mimetype": "text/x-python",
   "name": "python",
   "nbconvert_exporter": "python",
   "pygments_lexer": "ipython3",
   "version": "3.7.3"
  }
 },
 "nbformat": 4,
 "nbformat_minor": 2
}
